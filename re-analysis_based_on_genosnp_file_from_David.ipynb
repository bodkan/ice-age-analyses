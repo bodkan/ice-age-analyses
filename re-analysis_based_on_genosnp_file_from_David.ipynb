{
 "cells": [
  {
   "cell_type": "markdown",
   "metadata": {},
   "source": [
    "# Re-analysis of proportion of sharing with Altai for David's `genosnp` file\n",
    "\n",
    "This file contains for all analyzed individuals for each position a string of 0, 1, 2 and 9 (~ missing value) which represent a randomly chosen allele at that particular site."
   ]
  },
  {
   "cell_type": "code",
   "execution_count": 1,
   "metadata": {
    "collapsed": false,
    "scrolled": true
   },
   "outputs": [
    {
     "name": "stderr",
     "output_type": "stream",
     "text": [
      "\n",
      "Attaching package: ‘dplyr’\n",
      "\n",
      "The following objects are masked from ‘package:stats’:\n",
      "\n",
      "    filter, lag\n",
      "\n",
      "The following objects are masked from ‘package:base’:\n",
      "\n",
      "    intersect, setdiff, setequal, union\n",
      "\n"
     ]
    }
   ],
   "source": [
    "library(magrittr)\n",
    "library(dplyr)\n",
    "library(stringr)"
   ]
  },
  {
   "cell_type": "code",
   "execution_count": 2,
   "metadata": {
    "collapsed": false
   },
   "outputs": [],
   "source": [
    "setwd(\"/mnt/scratch/mateja/Early_modern_humans/nuclear_captures/Archaic_admixture_final/David_files/\")"
   ]
  },
  {
   "cell_type": "markdown",
   "metadata": {},
   "source": [
    "## What number of blocks to use for the jackknife?"
   ]
  },
  {
   "cell_type": "code",
   "execution_count": 3,
   "metadata": {
    "collapsed": true
   },
   "outputs": [],
   "source": [
    "n_blocks <- 100"
   ]
  },
  {
   "cell_type": "markdown",
   "metadata": {},
   "source": [
    "## Function definitions"
   ]
  },
  {
   "cell_type": "code",
   "execution_count": 4,
   "metadata": {
    "collapsed": true
   },
   "outputs": [],
   "source": [
    "# Calculate the proportion of sharing with between given\n",
    "# two individuals\n",
    "calc_proportion <- function(snps, sample_a, sample_b) {\n",
    "    # take positions of SNPs where both samples have a valid allele\n",
    "    # (9 encodes a missing position)\n",
    "    available_positions <- (snps[, sample_a] != 9) & (snps[, sample_b] != 9)\n",
    "    \n",
    "    mean(snps[available_positions, sample_a] == snps[available_positions, sample_b])\n",
    "}\n",
    "\n",
    "# Calculate the number of alleles in sample_b matching sample_a.\n",
    "count_alleles <- function(snps, sample_a, sample_b) {\n",
    "    # take positions of SNPs where both samples have a valid allele\n",
    "    # (9 encodes a missing position)\n",
    "    available_positions <- (snps[, sample_a] != 9) & (snps[, sample_b] != 9)\n",
    "    \n",
    "    sum(snps[available_positions, sample_a] == snps[available_positions, sample_b])\n",
    "}\n",
    "\n",
    "# Split the given list of SNPs into a defined number of blocks.\n",
    "split_into_blocks <- function(snps, n_blocks) {\n",
    "    block_size <- nrow(snps) %/% n_blocks\n",
    "    block_breaks <- seq(1, nrow(snps), block_size)\n",
    "\n",
    "    # split the list of SNPs into blocks\n",
    "    snps_blocks <- split(snps, findInterval(seq(1, nrow(snps)), block_breaks))[1 : n_blocks]\n",
    "       \n",
    "    return(snps_blocks)\n",
    "}"
   ]
  },
  {
   "cell_type": "markdown",
   "metadata": {},
   "source": [
    "## Load the information about samples"
   ]
  },
  {
   "cell_type": "code",
   "execution_count": 5,
   "metadata": {
    "collapsed": false
   },
   "outputs": [],
   "source": [
    "ind_data <- read.delim(\"individuals\", stringsAsFactors=FALSE)"
   ]
  },
  {
   "cell_type": "code",
   "execution_count": 6,
   "metadata": {
    "collapsed": false
   },
   "outputs": [
    {
     "data": {
      "text/html": [
       "<table>\n",
       "<thead><tr><th></th><th scope=col>Index</th><th scope=col>Sample.ID</th><th scope=col>Name.In.Paper</th><th scope=col>Date</th><th scope=col>Listed.in.TableS1</th><th scope=col>Used.In.Regression</th></tr></thead>\n",
       "<tbody>\n",
       "\t<tr><th scope=row>1</th><td>0</td><td>AG2</td><td>AfontovaGora2</td><td>16710</td><td>1</td><td>1</td></tr>\n",
       "\t<tr><th scope=row>2</th><td>1</td><td>AfontovaGora3</td><td>AfontovaGora3</td><td>17000</td><td>1</td><td>1</td></tr>\n",
       "\t<tr><th scope=row>3</th><td>2</td><td>Altai</td><td>Altai</td><td>70000</td><td>0</td><td>0</td></tr>\n",
       "\t<tr><th scope=row>4</th><td>3</td><td>B_Australian-4</td><td>Australian</td><td>0</td><td>1</td><td>0</td></tr>\n",
       "\t<tr><th scope=row>5</th><td>4</td><td>Chimp</td><td>Chimp</td><td>0</td><td>0</td><td>0</td></tr>\n",
       "\t<tr><th scope=row>6</th><td>5</td><td>Continenza</td><td>Continenza</td><td>10860</td><td>1</td><td>1</td></tr>\n",
       "</tbody>\n",
       "</table>\n"
      ],
      "text/latex": [
       "\\begin{tabular}{r|llllll}\n",
       "  & Index & Sample.ID & Name.In.Paper & Date & Listed.in.TableS1 & Used.In.Regression\\\\\n",
       "\\hline\n",
       "\t1 & 0 & AG2 & AfontovaGora2 & 16710 & 1 & 1\\\\\n",
       "\t2 & 1 & AfontovaGora3 & AfontovaGora3 & 17000 & 1 & 1\\\\\n",
       "\t3 & 2 & Altai & Altai & 70000 & 0 & 0\\\\\n",
       "\t4 & 3 & B_Australian-4 & Australian & 0 & 1 & 0\\\\\n",
       "\t5 & 4 & Chimp & Chimp & 0 & 0 & 0\\\\\n",
       "\t6 & 5 & Continenza & Continenza & 10860 & 1 & 1\\\\\n",
       "\\end{tabular}\n"
      ],
      "text/plain": [
       "  Index      Sample.ID Name.In.Paper  Date Listed.in.TableS1 Used.In.Regression\n",
       "1     0            AG2 AfontovaGora2 16710                 1                  1\n",
       "2     1  AfontovaGora3 AfontovaGora3 17000                 1                  1\n",
       "3     2          Altai         Altai 70000                 0                  0\n",
       "4     3 B_Australian-4    Australian     0                 1                  0\n",
       "5     4          Chimp         Chimp     0                 0                  0\n",
       "6     5     Continenza    Continenza 10860                 1                  1"
      ]
     },
     "execution_count": 6,
     "metadata": {},
     "output_type": "execute_result"
    }
   ],
   "source": [
    "head(ind_data)"
   ]
  },
  {
   "cell_type": "markdown",
   "metadata": {},
   "source": [
    "## Load the SNP table from David and Qiaomei (only a subset based on our positions)"
   ]
  },
  {
   "cell_type": "code",
   "execution_count": 7,
   "metadata": {
    "collapsed": false
   },
   "outputs": [],
   "source": [
    "snps <-\n",
    "    read.table(\"subset_genosnp\", sep=\"\\t\", col.names=c(\"chr\", \"start\", \"end\", \"id\", \"gendist\", \"alleleA\", \"alleleB\", \"bin\", \"allele_string\", \"B\"),\n",
    "               colClasses=c(\"integer\", \"integer\", \"integer\", \"character\", \"numeric\", \"character\", \"character\", \"character\", \"character\", \"character\"),\n",
    "               stringsAsFactors=FALSE)"
   ]
  },
  {
   "cell_type": "code",
   "execution_count": 8,
   "metadata": {
    "collapsed": false
   },
   "outputs": [
    {
     "data": {
      "text/html": [
       "476968"
      ],
      "text/latex": [
       "476968"
      ],
      "text/markdown": [
       "476968"
      ],
      "text/plain": [
       "[1] 476968"
      ]
     },
     "execution_count": 8,
     "metadata": {},
     "output_type": "execute_result"
    }
   ],
   "source": [
    "nrow(snps)"
   ]
  },
  {
   "cell_type": "markdown",
   "metadata": {},
   "source": [
    "## Add separate columns for each sample ID to the SNP table"
   ]
  },
  {
   "cell_type": "code",
   "execution_count": 9,
   "metadata": {
    "collapsed": false
   },
   "outputs": [],
   "source": [
    "snps[, ind_data$Sample.ID] <- NA"
   ]
  },
  {
   "cell_type": "markdown",
   "metadata": {},
   "source": [
    "## Process the `allele_string` column into individual columns/alleles for each sample"
   ]
  },
  {
   "cell_type": "code",
   "execution_count": 10,
   "metadata": {
    "collapsed": false
   },
   "outputs": [],
   "source": [
    "snps[, ind_data$Sample.ID] <- str_split_fixed(snps$allele_string, \"\", nrow(ind_data)) %>% as.integer"
   ]
  },
  {
   "cell_type": "markdown",
   "metadata": {},
   "source": [
    "Check the splitted allele string:"
   ]
  },
  {
   "cell_type": "code",
   "execution_count": 11,
   "metadata": {
    "collapsed": false
   },
   "outputs": [
    {
     "data": {
      "text/html": [
       "<table>\n",
       "<thead><tr><th></th><th scope=col>allele_string</th><th scope=col>AG2</th><th scope=col>AfontovaGora3</th><th scope=col>Altai</th><th scope=col>B_Australian-4</th><th scope=col>Chimp</th><th scope=col>Continenza</th><th scope=col>B_Dai-4</th><th scope=col>Denisova</th><th scope=col>B_Dinka-3</th><th scope=col>ellip.h</th><th scope=col>Pavlov1</th><th scope=col>B_Sardinian-3</th><th scope=col>Stuttgart</th><th scope=col>Ust_Ishim</th><th scope=col>Villabruna</th><th scope=col>Vi_merge</th><th scope=col>B_Yoruba-3</th><th scope=col>Bichon</th><th scope=col>KK1</th><th scope=col>SATP</th></tr></thead>\n",
       "<tbody>\n",
       "\t<tr><th scope=row>1</th><td>901009000990900900000900000009099999909000010009</td><td>9</td><td>0</td><td>1</td><td>0</td><td>0</td><td>9</td><td>0</td><td>0</td><td>0</td><td>⋯</td><td>9</td><td>0</td><td>0</td><td>0</td><td>0</td><td>1</td><td>0</td><td>0</td><td>0</td><td>9</td></tr>\n",
       "\t<tr><th scope=row>2</th><td>991009000999990000900900000009099999909000990009</td><td>9</td><td>9</td><td>1</td><td>0</td><td>0</td><td>9</td><td>0</td><td>0</td><td>0</td><td>⋯</td><td>9</td><td>0</td><td>0</td><td>0</td><td>9</td><td>9</td><td>0</td><td>0</td><td>0</td><td>9</td></tr>\n",
       "\t<tr><th scope=row>3</th><td>901019000999990900990900009009999999909000990009</td><td>9</td><td>0</td><td>1</td><td>0</td><td>1</td><td>9</td><td>0</td><td>0</td><td>0</td><td>⋯</td><td>9</td><td>0</td><td>0</td><td>0</td><td>9</td><td>9</td><td>0</td><td>0</td><td>0</td><td>9</td></tr>\n",
       "</tbody>\n",
       "</table>\n"
      ],
      "text/latex": [
       "\\begin{tabular}{r|lllllllllllllllllllllllllllllllllllllllllllllllll}\n",
       "  & allele_string & AG2 & AfontovaGora3 & Altai & B_Australian-4 & Chimp & Continenza & B_Dai-4 & Denisova & B_Dinka-3 & ellip.h & Pavlov1 & B_Sardinian-3 & Stuttgart & Ust_Ishim & Villabruna & Vi_merge & B_Yoruba-3 & Bichon & KK1 & SATP\\\\\n",
       "\\hline\n",
       "\t1 & 901009000990900900000900000009099999909000010009 & 9 & 0 & 1 & 0 & 0 & 9 & 0 & 0 & 0 & ⋯ & 9 & 0 & 0 & 0 & 0 & 1 & 0 & 0 & 0 & 9\\\\\n",
       "\t2 & 991009000999990000900900000009099999909000990009 & 9 & 9 & 1 & 0 & 0 & 9 & 0 & 0 & 0 & ⋯ & 9 & 0 & 0 & 0 & 9 & 9 & 0 & 0 & 0 & 9\\\\\n",
       "\t3 & 901019000999990900990900009009999999909000990009 & 9 & 0 & 1 & 0 & 1 & 9 & 0 & 0 & 0 & ⋯ & 9 & 0 & 0 & 0 & 9 & 9 & 0 & 0 & 0 & 9\\\\\n",
       "\\end{tabular}\n"
      ],
      "text/plain": [
       "                                     allele_string AG2 AfontovaGora3 Altai\n",
       "1 901009000990900900000900000009099999909000010009   9             0     1\n",
       "2 991009000999990000900900000009099999909000990009   9             9     1\n",
       "3 901019000999990900990900009009999999909000990009   9             0     1\n",
       "  B_Australian-4 Chimp Continenza B_Dai-4 Denisova B_Dinka-3 Dolni13 Dolni15\n",
       "1              0     0          9       0        0         0       9       9\n",
       "2              0     0          9       0        0         0       9       9\n",
       "3              0     1          9       0        0         0       9       9\n",
       "  Dolni16 Dolni43 ElMiron B_French-3 aurig B_Han-3 Href KO1 I0061 B_Karitiana-3\n",
       "1       0       9       0          0     9       0    0   0     0             0\n",
       "2       9       9       9          0     0       0    0   9     0             0\n",
       "3       9       9       9          0     9       0    0   9     9             0\n",
       "  Kostenki12 Kostenki14 Kostenki14_SG LaBrana1 Loschbour MA1 B_Mandenka-3\n",
       "1          9          0             0        0         0   0            0\n",
       "2          9          0             0        0         0   0            0\n",
       "3          9          0             0        0         0   9            0\n",
       "  B_Mbuti-4 MezE Motala12 Muierii I0908_published Oase1_d Oase1_pu_own Ostuni1\n",
       "1         0    9        0       9               9       9            9       9\n",
       "2         0    9        0       9               9       9            9       9\n",
       "3         0    9        9       9               9       9            9       9\n",
       "  Ostuni2 B_Papuan-15 Pavlov1 B_Sardinian-3 Stuttgart Ust_Ishim Villabruna\n",
       "1       9           0       9             0         0         0          0\n",
       "2       9           0       9             0         0         0          9\n",
       "3       9           0       9             0         0         0          9\n",
       "  Vi_merge B_Yoruba-3 Bichon KK1 SATP\n",
       "1        1          0      0   0    9\n",
       "2        9          0      0   0    9\n",
       "3        9          0      0   0    9"
      ]
     },
     "execution_count": 11,
     "metadata": {},
     "output_type": "execute_result"
    },
    {
     "data": {
      "text/html": [
       "<table>\n",
       "<thead><tr><th></th><th scope=col>allele_string</th><th scope=col>AG2</th><th scope=col>AfontovaGora3</th><th scope=col>Altai</th><th scope=col>B_Australian-4</th><th scope=col>Chimp</th><th scope=col>Continenza</th><th scope=col>B_Dai-4</th><th scope=col>Denisova</th><th scope=col>B_Dinka-3</th><th scope=col>ellip.h</th><th scope=col>Pavlov1</th><th scope=col>B_Sardinian-3</th><th scope=col>Stuttgart</th><th scope=col>Ust_Ishim</th><th scope=col>Villabruna</th><th scope=col>Vi_merge</th><th scope=col>B_Yoruba-3</th><th scope=col>Bichon</th><th scope=col>KK1</th><th scope=col>SATP</th></tr></thead>\n",
       "<tbody>\n",
       "\t<tr><th scope=row>476966</th><td>901009000990900900000900000009099999909000090000</td><td>9</td><td>0</td><td>1</td><td>0</td><td>0</td><td>9</td><td>0</td><td>0</td><td>0</td><td>⋯</td><td>9</td><td>0</td><td>0</td><td>0</td><td>0</td><td>9</td><td>0</td><td>0</td><td>0</td><td>0</td></tr>\n",
       "\t<tr><th scope=row>476967</th><td>991009000990990900090900009009099999909000090000</td><td>9</td><td>9</td><td>1</td><td>0</td><td>0</td><td>9</td><td>0</td><td>0</td><td>0</td><td>⋯</td><td>9</td><td>0</td><td>0</td><td>0</td><td>0</td><td>9</td><td>0</td><td>0</td><td>0</td><td>0</td></tr>\n",
       "\t<tr><th scope=row>476968</th><td>991009000999990000090900000009099999909000010009</td><td>9</td><td>9</td><td>1</td><td>0</td><td>0</td><td>9</td><td>0</td><td>0</td><td>0</td><td>⋯</td><td>9</td><td>0</td><td>0</td><td>0</td><td>0</td><td>1</td><td>0</td><td>0</td><td>0</td><td>9</td></tr>\n",
       "</tbody>\n",
       "</table>\n"
      ],
      "text/latex": [
       "\\begin{tabular}{r|lllllllllllllllllllllllllllllllllllllllllllllllll}\n",
       "  & allele_string & AG2 & AfontovaGora3 & Altai & B_Australian-4 & Chimp & Continenza & B_Dai-4 & Denisova & B_Dinka-3 & ellip.h & Pavlov1 & B_Sardinian-3 & Stuttgart & Ust_Ishim & Villabruna & Vi_merge & B_Yoruba-3 & Bichon & KK1 & SATP\\\\\n",
       "\\hline\n",
       "\t476966 & 901009000990900900000900000009099999909000090000 & 9 & 0 & 1 & 0 & 0 & 9 & 0 & 0 & 0 & ⋯ & 9 & 0 & 0 & 0 & 0 & 9 & 0 & 0 & 0 & 0\\\\\n",
       "\t476967 & 991009000990990900090900009009099999909000090000 & 9 & 9 & 1 & 0 & 0 & 9 & 0 & 0 & 0 & ⋯ & 9 & 0 & 0 & 0 & 0 & 9 & 0 & 0 & 0 & 0\\\\\n",
       "\t476968 & 991009000999990000090900000009099999909000010009 & 9 & 9 & 1 & 0 & 0 & 9 & 0 & 0 & 0 & ⋯ & 9 & 0 & 0 & 0 & 0 & 1 & 0 & 0 & 0 & 9\\\\\n",
       "\\end{tabular}\n"
      ],
      "text/plain": [
       "                                          allele_string AG2 AfontovaGora3 Altai\n",
       "476966 901009000990900900000900000009099999909000090000   9             0     1\n",
       "476967 991009000990990900090900009009099999909000090000   9             9     1\n",
       "476968 991009000999990000090900000009099999909000010009   9             9     1\n",
       "       B_Australian-4 Chimp Continenza B_Dai-4 Denisova B_Dinka-3 Dolni13\n",
       "476966              0     0          9       0        0         0       9\n",
       "476967              0     0          9       0        0         0       9\n",
       "476968              0     0          9       0        0         0       9\n",
       "       Dolni15 Dolni16 Dolni43 ElMiron B_French-3 aurig B_Han-3 Href KO1 I0061\n",
       "476966       9       0       9       0          0     9       0    0   0     0\n",
       "476967       9       0       9       9          0     9       0    0   0     9\n",
       "476968       9       9       9       9          0     0       0    0   0     9\n",
       "       B_Karitiana-3 Kostenki12 Kostenki14 Kostenki14_SG LaBrana1 Loschbour MA1\n",
       "476966             0          9          0             0        0         0   0\n",
       "476967             0          9          0             0        0         0   9\n",
       "476968             0          9          0             0        0         0   0\n",
       "       B_Mandenka-3 B_Mbuti-4 MezE Motala12 Muierii I0908_published Oase1_d\n",
       "476966            0         0    9        0       9               9       9\n",
       "476967            0         0    9        0       9               9       9\n",
       "476968            0         0    9        0       9               9       9\n",
       "       Oase1_pu_own Ostuni1 Ostuni2 B_Papuan-15 Pavlov1 B_Sardinian-3 Stuttgart\n",
       "476966            9       9       9           0       9             0         0\n",
       "476967            9       9       9           0       9             0         0\n",
       "476968            9       9       9           0       9             0         0\n",
       "       Ust_Ishim Villabruna Vi_merge B_Yoruba-3 Bichon KK1 SATP\n",
       "476966         0          0        9          0      0   0    0\n",
       "476967         0          0        9          0      0   0    0\n",
       "476968         0          0        1          0      0   0    9"
      ]
     },
     "execution_count": 11,
     "metadata": {},
     "output_type": "execute_result"
    }
   ],
   "source": [
    "snps[c(9, 11:ncol(snps))] %>% head(3)\n",
    "snps[c(9, 11:ncol(snps))] %>% tail(3)"
   ]
  },
  {
   "cell_type": "markdown",
   "metadata": {},
   "source": [
    "## Initialize the final results matrix"
   ]
  },
  {
   "cell_type": "code",
   "execution_count": 12,
   "metadata": {
    "collapsed": true
   },
   "outputs": [],
   "source": [
    "exclude_ids <- c(\"Altai\", \"Chimp\", \"Denisova\", \"B_Dinka-3\", \"aurig\", \"Href\", \"Kostenki14_SG\", \"B_Mandenka-3\", \"B_Mbuti-4\", \"MezE\", \"I0908_published\", \"Oase1_pu_own\", \"Vi_merge\", \"B_Yoruba-3\")\n",
    "sample_ids <- ind_data$Sample.ID[! ind_data$Sample.ID %in% exclude_ids]\n",
    "\n",
    "results <- matrix(, nr=n_blocks, nc=length(sample_ids))\n",
    "colnames(results) <- sample_ids"
   ]
  },
  {
   "cell_type": "markdown",
   "metadata": {},
   "source": [
    "## Split SNPs into blocks and calculate proportions on leave-one-out concatenated blocks"
   ]
  },
  {
   "cell_type": "code",
   "execution_count": 13,
   "metadata": {
    "collapsed": false
   },
   "outputs": [],
   "source": [
    "snp_blocks <- split_into_blocks(snps, n_blocks)\n",
    "\n",
    "for (block_i in seq(n_blocks)) {\n",
    "    # concatenate blocks without the block_i-th block\n",
    "    leave_one_block_out_snps <- do.call(rbind, snp_blocks[-block_i])\n",
    "    \n",
    "    for (sample_id in sample_ids) {\n",
    "        results[block_i, sample_id] <- calc_proportion(leave_one_block_out_snps, \"Altai\", sample_id)\n",
    "    }\n",
    "}"
   ]
  },
  {
   "cell_type": "markdown",
   "metadata": {},
   "source": [
    "## Convert the proportion of sharing of Neanderthal alleles to an actual fraction of ancestry\n",
    "\n",
    "This is based on David's formula:\n",
    "\n",
    "$prop_{Test}=\\dfrac{E_{Test} - E_{Dinka}}{E_{Mezmaiskaya} - E_{Dinka}}$\n",
    "\n",
    "Where $E_{X}$ is a proportion of sharing of derived alleles with the Altai Neanderthal in an individual $X$ and $prop_{Test}$ is the converted proportion of Neanderthal ancestry."
   ]
  },
  {
   "cell_type": "code",
   "execution_count": 23,
   "metadata": {
    "collapsed": false
   },
   "outputs": [
    {
     "data": {
      "text/html": [
       "0.00207315579913611"
      ],
      "text/latex": [
       "0.00207315579913611"
      ],
      "text/markdown": [
       "0.00207315579913611"
      ],
      "text/plain": [
       "[1] 0.002073156"
      ]
     },
     "execution_count": 23,
     "metadata": {},
     "output_type": "execute_result"
    },
    {
     "data": {
      "text/html": [
       "0.782542322677664"
      ],
      "text/latex": [
       "0.782542322677664"
      ],
      "text/markdown": [
       "0.782542322677664"
      ],
      "text/plain": [
       "[1] 0.7825423"
      ]
     },
     "execution_count": 23,
     "metadata": {},
     "output_type": "execute_result"
    },
    {
     "data": {
      "text/html": [
       "0.793891369712826"
      ],
      "text/latex": [
       "0.793891369712826"
      ],
      "text/markdown": [
       "0.793891369712826"
      ],
      "text/plain": [
       "[1] 0.7938914"
      ]
     },
     "execution_count": 23,
     "metadata": {},
     "output_type": "execute_result"
    }
   ],
   "source": [
    "(E_dinka <- calc_proportion(snps, \"Altai\", \"B_Dinka-3\"))\n",
    "(E_mez <- calc_proportion(snps, \"Altai\", \"MezE\"))\n",
    "(E_vi <- calc_proportion(snps, \"Altai\", \"Vi_merge\"))"
   ]
  },
  {
   "cell_type": "code",
   "execution_count": 24,
   "metadata": {
    "collapsed": false
   },
   "outputs": [],
   "source": [
    "converted_results_mez <- (results - E_dinka) / (E_mez - E_dinka)\n",
    "converted_results_vi <- (results - E_dinka) / (E_vi - E_dinka)"
   ]
  },
  {
   "cell_type": "markdown",
   "metadata": {},
   "source": [
    "<br><br><br>\n",
    "## Test &mdash; comparison of raw and converted proportions\n",
    "\n",
    "This is with taking a simple mean over the leave-one-block-out concatenated genome-wide proportions (which is how David calculates the mean genome-wide Neanderthal proportions in his \"Excel calculator\")."
   ]
  },
  {
   "cell_type": "code",
   "execution_count": 25,
   "metadata": {
    "collapsed": false
   },
   "outputs": [
    {
     "data": {
      "text/html": [
       "<table>\n",
       "<thead><tr><th></th><th scope=col>raw_prop</th><th scope=col>coverted_prop_mez</th><th scope=col>coverted_prop_vi</th></tr></thead>\n",
       "<tbody>\n",
       "\t<tr><th scope=row>AG2</th><td>1.761673</td><td>1.991568</td><td>1.963023</td></tr>\n",
       "\t<tr><th scope=row>AfontovaGora3</th><td>2.970228</td><td>3.540066</td><td>3.489326</td></tr>\n",
       "\t<tr><th scope=row>B_Australian-4</th><td>2.037769</td><td>2.345324</td><td>2.311709</td></tr>\n",
       "\t<tr><th scope=row>Continenza</th><td>2.371537</td><td>2.772975</td><td>2.733231</td></tr>\n",
       "\t<tr><th scope=row>B_Dai-4</th><td>1.692529</td><td>1.902976</td><td>1.875701</td></tr>\n",
       "\t<tr><th scope=row>Dolni13</th><td>2.666301</td><td>3.15065</td><td>3.105492</td></tr>\n",
       "\t<tr><th scope=row>Dolni15</th><td>2.144324</td><td>2.481852</td><td>2.44628</td></tr>\n",
       "\t<tr><th scope=row>Dolni16</th><td>2.428729</td><td>2.846254</td><td>2.805459</td></tr>\n",
       "\t<tr><th scope=row>Dolni43</th><td>2.358112</td><td>2.755774</td><td>2.716276</td></tr>\n",
       "\t<tr><th scope=row>ElMiron</th><td>2.460542</td><td>2.887015</td><td>2.845636</td></tr>\n",
       "\t<tr><th scope=row>B_French-3</th><td>1.535397</td><td>1.701645</td><td>1.677256</td></tr>\n",
       "\t<tr><th scope=row>B_Han-3</th><td>1.936175</td><td>2.215155</td><td>2.183405</td></tr>\n",
       "\t<tr><th scope=row>KO1</th><td>2.013725</td><td>2.314517</td><td>2.281343</td></tr>\n",
       "\t<tr><th scope=row>I0061</th><td>1.90704</td><td>2.177824</td><td>2.14661</td></tr>\n",
       "\t<tr><th scope=row>B_Karitiana-3</th><td>1.863443</td><td>2.121964</td><td>2.09155</td></tr>\n",
       "\t<tr><th scope=row>Kostenki12</th><td>2.21918</td><td>2.577763</td><td>2.540816</td></tr>\n",
       "\t<tr><th scope=row>Kostenki14</th><td>2.36913</td><td>2.769891</td><td>2.730191</td></tr>\n",
       "\t<tr><th scope=row>LaBrana1</th><td>2.225169</td><td>2.585436</td><td>2.548379</td></tr>\n",
       "\t<tr><th scope=row>Loschbour</th><td>1.871007</td><td>2.131656</td><td>2.101103</td></tr>\n",
       "\t<tr><th scope=row>MA1</th><td>2.063392</td><td>2.378154</td><td>2.344069</td></tr>\n",
       "\t<tr><th scope=row>Motala12</th><td>1.872968</td><td>2.134168</td><td>2.103579</td></tr>\n",
       "\t<tr><th scope=row>Muierii</th><td>2.619157</td><td>3.090246</td><td>3.045954</td></tr>\n",
       "\t<tr><th scope=row>Oase1_d</th><td>6.414838</td><td>7.953578</td><td>7.839581</td></tr>\n",
       "\t<tr><th scope=row>Ostuni1</th><td>2.279151</td><td>2.654602</td><td>2.616554</td></tr>\n",
       "\t<tr><th scope=row>Ostuni2</th><td>1.603596</td><td>1.789026</td><td>1.763385</td></tr>\n",
       "\t<tr><th scope=row>B_Papuan-15</th><td>2.105154</td><td>2.431664</td><td>2.396811</td></tr>\n",
       "\t<tr><th scope=row>Pavlov1</th><td>2.395101</td><td>2.803167</td><td>2.76299</td></tr>\n",
       "\t<tr><th scope=row>B_Sardinian-3</th><td>1.612029</td><td>1.799832</td><td>1.774035</td></tr>\n",
       "\t<tr><th scope=row>Stuttgart</th><td>1.693481</td><td>1.904195</td><td>1.876902</td></tr>\n",
       "\t<tr><th scope=row>Ust_Ishim</th><td>2.190151</td><td>2.540569</td><td>2.504155</td></tr>\n",
       "\t<tr><th scope=row>Villabruna</th><td>2.921137</td><td>3.477166</td><td>3.427329</td></tr>\n",
       "\t<tr><th scope=row>Bichon</th><td>2.183557</td><td>2.53212</td><td>2.495827</td></tr>\n",
       "\t<tr><th scope=row>KK1</th><td>1.838927</td><td>2.090552</td><td>2.060588</td></tr>\n",
       "\t<tr><th scope=row>SATP</th><td>1.77178</td><td>2.004518</td><td>1.975788</td></tr>\n",
       "</tbody>\n",
       "</table>\n"
      ],
      "text/latex": [
       "\\begin{tabular}{r|lll}\n",
       "  & raw_prop & coverted_prop_mez & coverted_prop_vi\\\\\n",
       "\\hline\n",
       "\tAG2 & 1.761673 & 1.991568 & 1.963023\\\\\n",
       "\tAfontovaGora3 & 2.970228 & 3.540066 & 3.489326\\\\\n",
       "\tB_Australian-4 & 2.037769 & 2.345324 & 2.311709\\\\\n",
       "\tContinenza & 2.371537 & 2.772975 & 2.733231\\\\\n",
       "\tB_Dai-4 & 1.692529 & 1.902976 & 1.875701\\\\\n",
       "\tDolni13 & 2.666301 & 3.15065 & 3.105492\\\\\n",
       "\tDolni15 & 2.144324 & 2.481852 & 2.44628\\\\\n",
       "\tDolni16 & 2.428729 & 2.846254 & 2.805459\\\\\n",
       "\tDolni43 & 2.358112 & 2.755774 & 2.716276\\\\\n",
       "\tElMiron & 2.460542 & 2.887015 & 2.845636\\\\\n",
       "\tB_French-3 & 1.535397 & 1.701645 & 1.677256\\\\\n",
       "\tB_Han-3 & 1.936175 & 2.215155 & 2.183405\\\\\n",
       "\tKO1 & 2.013725 & 2.314517 & 2.281343\\\\\n",
       "\tI0061 & 1.90704 & 2.177824 & 2.14661\\\\\n",
       "\tB_Karitiana-3 & 1.863443 & 2.121964 & 2.09155\\\\\n",
       "\tKostenki12 & 2.21918 & 2.577763 & 2.540816\\\\\n",
       "\tKostenki14 & 2.36913 & 2.769891 & 2.730191\\\\\n",
       "\tLaBrana1 & 2.225169 & 2.585436 & 2.548379\\\\\n",
       "\tLoschbour & 1.871007 & 2.131656 & 2.101103\\\\\n",
       "\tMA1 & 2.063392 & 2.378154 & 2.344069\\\\\n",
       "\tMotala12 & 1.872968 & 2.134168 & 2.103579\\\\\n",
       "\tMuierii & 2.619157 & 3.090246 & 3.045954\\\\\n",
       "\tOase1_d & 6.414838 & 7.953578 & 7.839581\\\\\n",
       "\tOstuni1 & 2.279151 & 2.654602 & 2.616554\\\\\n",
       "\tOstuni2 & 1.603596 & 1.789026 & 1.763385\\\\\n",
       "\tB_Papuan-15 & 2.105154 & 2.431664 & 2.396811\\\\\n",
       "\tPavlov1 & 2.395101 & 2.803167 & 2.76299\\\\\n",
       "\tB_Sardinian-3 & 1.612029 & 1.799832 & 1.774035\\\\\n",
       "\tStuttgart & 1.693481 & 1.904195 & 1.876902\\\\\n",
       "\tUst_Ishim & 2.190151 & 2.540569 & 2.504155\\\\\n",
       "\tVillabruna & 2.921137 & 3.477166 & 3.427329\\\\\n",
       "\tBichon & 2.183557 & 2.53212 & 2.495827\\\\\n",
       "\tKK1 & 1.838927 & 2.090552 & 2.060588\\\\\n",
       "\tSATP & 1.77178 & 2.004518 & 1.975788\\\\\n",
       "\\end{tabular}\n"
      ],
      "text/plain": [
       "               raw_prop coverted_prop_mez coverted_prop_vi\n",
       "AG2            1.761673          1.991568         1.963023\n",
       "AfontovaGora3  2.970228          3.540066         3.489326\n",
       "B_Australian-4 2.037769          2.345324         2.311709\n",
       "Continenza     2.371537          2.772975         2.733231\n",
       "B_Dai-4        1.692529          1.902976         1.875701\n",
       "Dolni13        2.666301          3.150650         3.105492\n",
       "Dolni15        2.144324          2.481852         2.446280\n",
       "Dolni16        2.428729          2.846254         2.805459\n",
       "Dolni43        2.358112          2.755774         2.716276\n",
       "ElMiron        2.460542          2.887015         2.845636\n",
       "B_French-3     1.535397          1.701645         1.677256\n",
       "B_Han-3        1.936175          2.215155         2.183405\n",
       "KO1            2.013725          2.314517         2.281343\n",
       "I0061          1.907040          2.177824         2.146610\n",
       "B_Karitiana-3  1.863443          2.121964         2.091550\n",
       "Kostenki12     2.219180          2.577763         2.540816\n",
       "Kostenki14     2.369130          2.769891         2.730191\n",
       "LaBrana1       2.225169          2.585436         2.548379\n",
       "Loschbour      1.871007          2.131656         2.101103\n",
       "MA1            2.063392          2.378154         2.344069\n",
       "Motala12       1.872968          2.134168         2.103579\n",
       "Muierii        2.619157          3.090246         3.045954\n",
       "Oase1_d        6.414838          7.953578         7.839581\n",
       "Ostuni1        2.279151          2.654602         2.616554\n",
       "Ostuni2        1.603596          1.789026         1.763385\n",
       "B_Papuan-15    2.105154          2.431664         2.396811\n",
       "Pavlov1        2.395101          2.803167         2.762990\n",
       "B_Sardinian-3  1.612029          1.799832         1.774035\n",
       "Stuttgart      1.693481          1.904195         1.876902\n",
       "Ust_Ishim      2.190151          2.540569         2.504155\n",
       "Villabruna     2.921137          3.477166         3.427329\n",
       "Bichon         2.183557          2.532120         2.495827\n",
       "KK1            1.838927          2.090552         2.060588\n",
       "SATP           1.771780          2.004518         1.975788"
      ]
     },
     "execution_count": 25,
     "metadata": {},
     "output_type": "execute_result"
    }
   ],
   "source": [
    "data.frame(raw_prop=apply(results, 2, mean), coverted_prop_mez=apply(converted_results_mez, 2, mean), coverted_prop_vi=apply(converted_results_vi, 2, mean)) * 100"
   ]
  },
  {
   "cell_type": "markdown",
   "metadata": {},
   "source": [
    "<br><br><br>\n",
    "## Output the final matrix of leave-one-block-out proportions to a file"
   ]
  },
  {
   "cell_type": "code",
   "execution_count": 17,
   "metadata": {
    "collapsed": false
   },
   "outputs": [],
   "source": [
    "write.table(converted_results_mez, \"leave_one_out_proportions.tsv\", sep=\"\\t\", quote=FALSE, row.names=FALSE)"
   ]
  },
  {
   "cell_type": "code",
   "execution_count": 18,
   "metadata": {
    "collapsed": false
   },
   "outputs": [],
   "source": [
    "write.table(t(converted_results_mez), \"leave_one_out_proportions_transposed.tsv\", sep=\"\\t\", quote=FALSE, col.names=FALSE)"
   ]
  },
  {
   "cell_type": "markdown",
   "metadata": {},
   "source": [
    "<br><br><br>\n",
    "## Calculate the number of sites available\n",
    "\n",
    "This is done based on David's and Qiaomei's `genosnp` file (i.e. we are calculating for each sample the number of non-9 alleles)."
   ]
  },
  {
   "cell_type": "code",
   "execution_count": 20,
   "metadata": {
    "collapsed": false
   },
   "outputs": [
    {
     "data": {
      "text/html": [
       "<dl class=dl-horizontal>\n",
       "\t<dt>AG2</dt>\n",
       "\t\t<dd>23234</dd>\n",
       "\t<dt>AfontovaGora3</dt>\n",
       "\t\t<dd>57481</dd>\n",
       "\t<dt>Altai</dt>\n",
       "\t\t<dd>474757</dd>\n",
       "\t<dt>B_Australian-4</dt>\n",
       "\t\t<dd>476333</dd>\n",
       "\t<dt>Chimp</dt>\n",
       "\t\t<dd>462905</dd>\n",
       "\t<dt>Continenza</dt>\n",
       "\t\t<dd>1015</dd>\n",
       "\t<dt>B_Dai-4</dt>\n",
       "\t\t<dd>476049</dd>\n",
       "\t<dt>Denisova</dt>\n",
       "\t\t<dd>476968</dd>\n",
       "\t<dt>B_Dinka-3</dt>\n",
       "\t\t<dd>475874</dd>\n",
       "\t<dt>Dolni13</dt>\n",
       "\t\t<dd>21705</dd>\n",
       "\t<dt>Dolni15</dt>\n",
       "\t\t<dd>3467</dd>\n",
       "\t<dt>Dolni16</dt>\n",
       "\t\t<dd>161650</dd>\n",
       "\t<dt>Dolni43</dt>\n",
       "\t\t<dd>22411</dd>\n",
       "\t<dt>ElMiron</dt>\n",
       "\t\t<dd>150450</dd>\n",
       "\t<dt>B_French-3</dt>\n",
       "\t\t<dd>476164</dd>\n",
       "\t<dt>aurig</dt>\n",
       "\t\t<dd>93549</dd>\n",
       "\t<dt>B_Han-3</dt>\n",
       "\t\t<dd>476115</dd>\n",
       "\t<dt>Href</dt>\n",
       "\t\t<dd>476943</dd>\n",
       "\t<dt>KO1</dt>\n",
       "\t\t<dd>270311</dd>\n",
       "\t<dt>I0061</dt>\n",
       "\t\t<dd>359095</dd>\n",
       "\t<dt>B_Karitiana-3</dt>\n",
       "\t\t<dd>476073</dd>\n",
       "\t<dt>Kostenki12</dt>\n",
       "\t\t<dd>8063</dd>\n",
       "\t<dt>Kostenki14</dt>\n",
       "\t\t<dd>387781</dd>\n",
       "\t<dt>Kostenki14_SG</dt>\n",
       "\t\t<dd>414694</dd>\n",
       "\t<dt>LaBrana1</dt>\n",
       "\t\t<dd>394839</dd>\n",
       "\t<dt>Loschbour</dt>\n",
       "\t\t<dd>472869</dd>\n",
       "\t<dt>MA1</dt>\n",
       "\t\t<dd>269624</dd>\n",
       "\t<dt>B_Mandenka-3</dt>\n",
       "\t\t<dd>476306</dd>\n",
       "\t<dt>B_Mbuti-4</dt>\n",
       "\t\t<dd>476289</dd>\n",
       "\t<dt>MezE</dt>\n",
       "\t\t<dd>43939</dd>\n",
       "\t<dt>Motala12</dt>\n",
       "\t\t<dd>402605</dd>\n",
       "\t<dt>Muierii</dt>\n",
       "\t\t<dd>13204</dd>\n",
       "\t<dt>I0908_published</dt>\n",
       "\t\t<dd>24518</dd>\n",
       "\t<dt>Oase1_d</dt>\n",
       "\t\t<dd>36014</dd>\n",
       "\t<dt>Oase1_pu_own</dt>\n",
       "\t\t<dd>40972</dd>\n",
       "\t<dt>Ostuni1</dt>\n",
       "\t\t<dd>52333</dd>\n",
       "\t<dt>Ostuni2</dt>\n",
       "\t\t<dd>1565</dd>\n",
       "\t<dt>B_Papuan-15</dt>\n",
       "\t\t<dd>476123</dd>\n",
       "\t<dt>Pavlov1</dt>\n",
       "\t\t<dd>5411</dd>\n",
       "\t<dt>B_Sardinian-3</dt>\n",
       "\t\t<dd>476275</dd>\n",
       "\t<dt>Stuttgart</dt>\n",
       "\t\t<dd>468872</dd>\n",
       "\t<dt>Ust_Ishim</dt>\n",
       "\t\t<dd>475288</dd>\n",
       "\t<dt>Villabruna</dt>\n",
       "\t\t<dd>258405</dd>\n",
       "\t<dt>Vi_merge</dt>\n",
       "\t\t<dd>212739</dd>\n",
       "\t<dt>B_Yoruba-3</dt>\n",
       "\t\t<dd>476314</dd>\n",
       "\t<dt>Bichon</dt>\n",
       "\t\t<dd>470640</dd>\n",
       "\t<dt>KK1</dt>\n",
       "\t\t<dd>475371</dd>\n",
       "\t<dt>SATP</dt>\n",
       "\t\t<dd>332614</dd>\n",
       "</dl>\n"
      ],
      "text/latex": [
       "\\begin{description*}\n",
       "\\item[AG2] 23234\n",
       "\\item[AfontovaGora3] 57481\n",
       "\\item[Altai] 474757\n",
       "\\item[B_Australian-4] 476333\n",
       "\\item[Chimp] 462905\n",
       "\\item[Continenza] 1015\n",
       "\\item[B_Dai-4] 476049\n",
       "\\item[Denisova] 476968\n",
       "\\item[B_Dinka-3] 475874\n",
       "\\item[Dolni13] 21705\n",
       "\\item[Dolni15] 3467\n",
       "\\item[Dolni16] 161650\n",
       "\\item[Dolni43] 22411\n",
       "\\item[ElMiron] 150450\n",
       "\\item[B_French-3] 476164\n",
       "\\item[aurig] 93549\n",
       "\\item[B_Han-3] 476115\n",
       "\\item[Href] 476943\n",
       "\\item[KO1] 270311\n",
       "\\item[I0061] 359095\n",
       "\\item[B_Karitiana-3] 476073\n",
       "\\item[Kostenki12] 8063\n",
       "\\item[Kostenki14] 387781\n",
       "\\item[Kostenki14_SG] 414694\n",
       "\\item[LaBrana1] 394839\n",
       "\\item[Loschbour] 472869\n",
       "\\item[MA1] 269624\n",
       "\\item[B_Mandenka-3] 476306\n",
       "\\item[B_Mbuti-4] 476289\n",
       "\\item[MezE] 43939\n",
       "\\item[Motala12] 402605\n",
       "\\item[Muierii] 13204\n",
       "\\item[I0908_published] 24518\n",
       "\\item[Oase1_d] 36014\n",
       "\\item[Oase1_pu_own] 40972\n",
       "\\item[Ostuni1] 52333\n",
       "\\item[Ostuni2] 1565\n",
       "\\item[B_Papuan-15] 476123\n",
       "\\item[Pavlov1] 5411\n",
       "\\item[B_Sardinian-3] 476275\n",
       "\\item[Stuttgart] 468872\n",
       "\\item[Ust_Ishim] 475288\n",
       "\\item[Villabruna] 258405\n",
       "\\item[Vi_merge] 212739\n",
       "\\item[B_Yoruba-3] 476314\n",
       "\\item[Bichon] 470640\n",
       "\\item[KK1] 475371\n",
       "\\item[SATP] 332614\n",
       "\\end{description*}\n"
      ],
      "text/markdown": [
       "AG2\n",
       ":   23234AfontovaGora3\n",
       ":   57481Altai\n",
       ":   474757B_Australian-4\n",
       ":   476333Chimp\n",
       ":   462905Continenza\n",
       ":   1015B_Dai-4\n",
       ":   476049Denisova\n",
       ":   476968B_Dinka-3\n",
       ":   475874Dolni13\n",
       ":   21705Dolni15\n",
       ":   3467Dolni16\n",
       ":   161650Dolni43\n",
       ":   22411ElMiron\n",
       ":   150450B_French-3\n",
       ":   476164aurig\n",
       ":   93549B_Han-3\n",
       ":   476115Href\n",
       ":   476943KO1\n",
       ":   270311I0061\n",
       ":   359095B_Karitiana-3\n",
       ":   476073Kostenki12\n",
       ":   8063Kostenki14\n",
       ":   387781Kostenki14_SG\n",
       ":   414694LaBrana1\n",
       ":   394839Loschbour\n",
       ":   472869MA1\n",
       ":   269624B_Mandenka-3\n",
       ":   476306B_Mbuti-4\n",
       ":   476289MezE\n",
       ":   43939Motala12\n",
       ":   402605Muierii\n",
       ":   13204I0908_published\n",
       ":   24518Oase1_d\n",
       ":   36014Oase1_pu_own\n",
       ":   40972Ostuni1\n",
       ":   52333Ostuni2\n",
       ":   1565B_Papuan-15\n",
       ":   476123Pavlov1\n",
       ":   5411B_Sardinian-3\n",
       ":   476275Stuttgart\n",
       ":   468872Ust_Ishim\n",
       ":   475288Villabruna\n",
       ":   258405Vi_merge\n",
       ":   212739B_Yoruba-3\n",
       ":   476314Bichon\n",
       ":   470640KK1\n",
       ":   475371SATP\n",
       ":   332614\n",
       "\n"
      ],
      "text/plain": [
       "            AG2   AfontovaGora3           Altai  B_Australian-4           Chimp \n",
       "          23234           57481          474757          476333          462905 \n",
       "     Continenza         B_Dai-4        Denisova       B_Dinka-3         Dolni13 \n",
       "           1015          476049          476968          475874           21705 \n",
       "        Dolni15         Dolni16         Dolni43         ElMiron      B_French-3 \n",
       "           3467          161650           22411          150450          476164 \n",
       "          aurig         B_Han-3            Href             KO1           I0061 \n",
       "          93549          476115          476943          270311          359095 \n",
       "  B_Karitiana-3      Kostenki12      Kostenki14   Kostenki14_SG        LaBrana1 \n",
       "         476073            8063          387781          414694          394839 \n",
       "      Loschbour             MA1    B_Mandenka-3       B_Mbuti-4            MezE \n",
       "         472869          269624          476306          476289           43939 \n",
       "       Motala12         Muierii I0908_published         Oase1_d    Oase1_pu_own \n",
       "         402605           13204           24518           36014           40972 \n",
       "        Ostuni1         Ostuni2     B_Papuan-15         Pavlov1   B_Sardinian-3 \n",
       "          52333            1565          476123            5411          476275 \n",
       "      Stuttgart       Ust_Ishim      Villabruna        Vi_merge      B_Yoruba-3 \n",
       "         468872          475288          258405          212739          476314 \n",
       "         Bichon             KK1            SATP \n",
       "         470640          475371          332614 "
      ]
     },
     "execution_count": 20,
     "metadata": {},
     "output_type": "execute_result"
    }
   ],
   "source": [
    "snps[ind_data$Sample.ID] %>% apply(2, function(sample_snps) { sum(sample_snps != 9) })"
   ]
  }
 ],
 "metadata": {
  "kernelspec": {
   "display_name": "R",
   "language": "R",
   "name": "ir"
  },
  "language_info": {
   "codemirror_mode": "r",
   "file_extension": ".r",
   "mimetype": "text/x-r-source",
   "name": "R",
   "pygments_lexer": "r",
   "version": "3.2.3"
  }
 },
 "nbformat": 4,
 "nbformat_minor": 0
}
