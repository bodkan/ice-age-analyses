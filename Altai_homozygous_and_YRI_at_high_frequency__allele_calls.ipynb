{
 "cells": [
  {
   "cell_type": "markdown",
   "metadata": {},
   "source": [
    "# Processing of VCF and BAM data for the Upper-Paleolithic paper"
   ]
  },
  {
   "cell_type": "markdown",
   "metadata": {},
   "source": [
    "**Positions used for the analysis**: subset of sites from the archaic admixture array at which:\n",
    "\n",
    "* Altai Neandertal is homozygous\n",
    "* majority of Yorubans from 1000 Genomes Project have a high frequency allele different from Altai\n",
    "\n",
    "Note that we are ignoring the low coverage Neandertal samples because of high amount of noise introduced by them."
   ]
  },
  {
   "cell_type": "code",
   "execution_count": 1,
   "metadata": {
    "collapsed": false
   },
   "outputs": [
    {
     "name": "stdout",
     "output_type": "stream",
     "text": [
      "477011 /mnt/scratch/mateja/Early_modern_humans/nuclear_captures/Archaic_admixture_final/final_test3.bed\r\n"
     ]
    }
   ],
   "source": [
    "position_file=\"/mnt/scratch/mateja/Early_modern_humans/nuclear_captures/Archaic_admixture_final/final_test3.bed\"\n",
    "wc -l $position_file"
   ]
  },
  {
   "cell_type": "code",
   "execution_count": 2,
   "metadata": {
    "collapsed": false
   },
   "outputs": [
    {
     "name": "stdout",
     "output_type": "stream",
     "text": []
    }
   ],
   "source": [
    "cd /mnt/scratch/mateja/Early_modern_humans/nuclear_captures/Archaic_admixture_final/\n",
    "mkdir Altai_homozygous_and_YRI_at_high_frequency\n",
    "cd Altai_homozygous_and_YRI_at_high_frequency"
   ]
  },
  {
   "cell_type": "markdown",
   "metadata": {},
   "source": [
    "## Calling random alleles from high-coverage individuals"
   ]
  },
  {
   "cell_type": "code",
   "execution_count": 3,
   "metadata": {
    "collapsed": false
   },
   "outputs": [
    {
     "name": "stdout",
     "output_type": "stream",
     "text": []
    }
   ],
   "source": [
    "mkdir highcov"
   ]
  },
  {
   "cell_type": "markdown",
   "metadata": {},
   "source": [
    "The code bellow is run in parallel for each chromosome (i.e. 22 processes in parallel), best to run on a cluster!"
   ]
  },
  {
   "cell_type": "code",
   "execution_count": 4,
   "metadata": {
    "collapsed": false
   },
   "outputs": [
    {
     "name": "stdout",
     "output_type": "stream",
     "text": []
    }
   ],
   "source": [
    "random_allele_calling_script=\"/mnt/scratch/mp/EMH/sample_from_vcf.py\"\n",
    "\n",
    "# Process VCF files of all chromosomes from a given individual and perform\n",
    "# a random allele sampling for each of them, merging the results at the end.\n",
    "function process_highcov_individual {\n",
    "    vcf_id=$1\n",
    "    vcf_dir=$2\n",
    "    bed_file=$3\n",
    "    output_file=$4\n",
    "\n",
    "    # process one VCF at a time, redirecting output to tmp files\n",
    "    echo {1..22} | xargs -n1 | \\\n",
    "        xargs -P22 -I{} sh -c \"python3 $random_allele_calling_script --vcf ${vcf_dir}/${vcf_id}.hg19_1000g.{}.mod.vcf.gz --bed $bed_file --chr {} > ${output_file}_{}.tmp\"\n",
    "\n",
    "    # merge all temporary files into one final output file\n",
    "    cat ${output_file}_{1..22}.tmp | sort -n -k1,1 -k2,2 > $output_file\n",
    "\n",
    "    # remove the temporary files\n",
    "    rm ${output_file}_{1..22}.tmp\n",
    "}"
   ]
  },
  {
   "cell_type": "markdown",
   "metadata": {},
   "source": [
    "### What are the available individuals in the B-team?"
   ]
  },
  {
   "cell_type": "code",
   "execution_count": 5,
   "metadata": {
    "collapsed": false
   },
   "outputs": [
    {
     "name": "stdout",
     "output_type": "stream",
     "text": [
      "Name1\tName2\tGroup\tSex\r\n",
      "HGDP01029\tHGDP01029\tSan\tM\r\n",
      "DNK02\tDNK02\tDinka\tM\r\n",
      "HGDP00521\tHGDP00521\tFrench\tM\r\n",
      "HGDP00665\tHGDP00665\tSardinian\tM\r\n",
      "HGDP00542\tHGDP00542\tPapuan\tM\r\n",
      "HGDP00778\tHGDP00778\tHan\tM\r\n",
      "HGDP01307\tHGDP01307\tDai\tM\r\n",
      "HGDP00998\tHGDP00998\tKaritiana\tM\r\n",
      "HGDP00927\tHGDP00927\tYoruba\tM\r\n",
      "HGDP01284\tHGDP01284\tMandenka\tM\r\n",
      "HGDP0456\tHGDP00456\tMbuti\tM\r\n",
      "SS6004467\tHGDP01308\tDai\tM\r\n",
      "SS6004468\tHGDP00533\tFrench\tM\r\n",
      "SS6004469\tHGDP00775\tHan\tM\r\n",
      "SS6004470\tHGDP01286\tMandenka\tM\r\n",
      "SS6004471\tHGDP00982\tMbuti M\r\n",
      "SS6004472\tHGDP00546\tPapuan\tM\r\n",
      "SS6004473\tHGDP01036\tSan\tM\r\n",
      "SS6004474\tHGDP01076\tSardinian\tM\r\n",
      "SS6004475\tHGDP00936\tYoruba\tM\r\n",
      "SS6004476\tHGDP01015\tKaritiana M\r\n",
      "SS6004477\tWON,M\tAustralian\tM\r\n",
      "SS6004478\tBUR,E\tAustralian\tF\r\n",
      "SS6004479\tMIXE0007\tMixe\tU\r\n",
      "SS6004480\tDNK07\tDinka\tM\r\n",
      "DenisovaPinky\tDenisova\tDenisova\tF\r\n",
      "AltaiNea\tNeandertal\tNeandertal\t?\r\n"
     ]
    }
   ],
   "source": [
    "cat /mnt/454/HighCovNeandertalGenome/1_Extended_VCF/Individuals.txt"
   ]
  },
  {
   "cell_type": "markdown",
   "metadata": {
    "collapsed": true
   },
   "source": [
    "### Perform the random allele calling"
   ]
  },
  {
   "cell_type": "code",
   "execution_count": 6,
   "metadata": {
    "collapsed": false
   },
   "outputs": [
    {
     "name": "stdout",
     "output_type": "stream",
     "text": []
    }
   ],
   "source": [
    "bteam_vcf_dir=\"/mnt/454/HighCovNeandertalGenome/1_Extended_VCF\""
   ]
  },
  {
   "cell_type": "code",
   "execution_count": 7,
   "metadata": {
    "collapsed": false
   },
   "outputs": [
    {
     "name": "stdout",
     "output_type": "stream",
     "text": []
    }
   ],
   "source": [
    "process_highcov_individual SS6004468 $bteam_vcf_dir/SS6004468 $position_file highcov/French.bed"
   ]
  },
  {
   "cell_type": "code",
   "execution_count": 8,
   "metadata": {
    "collapsed": false
   },
   "outputs": [
    {
     "name": "stdout",
     "output_type": "stream",
     "text": []
    }
   ],
   "source": [
    "process_highcov_individual SS6004469 $bteam_vcf_dir/SS6004469 $position_file highcov/Han.bed"
   ]
  },
  {
   "cell_type": "code",
   "execution_count": 9,
   "metadata": {
    "collapsed": false
   },
   "outputs": [
    {
     "name": "stdout",
     "output_type": "stream",
     "text": []
    }
   ],
   "source": [
    "process_highcov_individual SS6004471 $bteam_vcf_dir/SS6004471 $position_file highcov/Mbuti.bed"
   ]
  },
  {
   "cell_type": "code",
   "execution_count": 10,
   "metadata": {
    "collapsed": false
   },
   "outputs": [
    {
     "name": "stdout",
     "output_type": "stream",
     "text": []
    }
   ],
   "source": [
    "process_highcov_individual SS6004472 $bteam_vcf_dir/SS6004472 $position_file highcov/Papuan.bed"
   ]
  },
  {
   "cell_type": "code",
   "execution_count": 11,
   "metadata": {
    "collapsed": false
   },
   "outputs": [
    {
     "name": "stdout",
     "output_type": "stream",
     "text": []
    }
   ],
   "source": [
    "process_highcov_individual SS6004473 $bteam_vcf_dir/SS6004473 $position_file highcov/San.bed"
   ]
  },
  {
   "cell_type": "code",
   "execution_count": 12,
   "metadata": {
    "collapsed": false
   },
   "outputs": [
    {
     "name": "stdout",
     "output_type": "stream",
     "text": []
    }
   ],
   "source": [
    "process_highcov_individual SS6004474 $bteam_vcf_dir/SS6004474 $position_file highcov/Sardinian.bed"
   ]
  },
  {
   "cell_type": "code",
   "execution_count": 13,
   "metadata": {
    "collapsed": false
   },
   "outputs": [
    {
     "name": "stdout",
     "output_type": "stream",
     "text": []
    }
   ],
   "source": [
    "process_highcov_individual SS6004475 $bteam_vcf_dir/SS6004475 $position_file highcov/Yoruba.bed"
   ]
  },
  {
   "cell_type": "code",
   "execution_count": 14,
   "metadata": {
    "collapsed": false
   },
   "outputs": [
    {
     "name": "stdout",
     "output_type": "stream",
     "text": []
    }
   ],
   "source": [
    "process_highcov_individual SS6004476 $bteam_vcf_dir/SS6004476 $position_file highcov/Karitiana.bed"
   ]
  },
  {
   "cell_type": "code",
   "execution_count": 15,
   "metadata": {
    "collapsed": false
   },
   "outputs": [
    {
     "name": "stdout",
     "output_type": "stream",
     "text": []
    }
   ],
   "source": [
    "process_highcov_individual SS6004477 $bteam_vcf_dir/SS6004477 $position_file highcov/Australian.bed"
   ]
  },
  {
   "cell_type": "code",
   "execution_count": 16,
   "metadata": {
    "collapsed": false
   },
   "outputs": [
    {
     "name": "stdout",
     "output_type": "stream",
     "text": []
    }
   ],
   "source": [
    "process_highcov_individual SS6004480 $bteam_vcf_dir/SS6004480 $position_file highcov/Dinka.bed"
   ]
  },
  {
   "cell_type": "code",
   "execution_count": 18,
   "metadata": {
    "collapsed": false
   },
   "outputs": [
    {
     "name": "stdout",
     "output_type": "stream",
     "text": []
    }
   ],
   "source": [
    "process_highcov_individual Ust_Ishim /mnt/454/Ust_Ishim/1_Extended_VCF $position_file highcov/Ust-Ishim.bed"
   ]
  },
  {
   "cell_type": "markdown",
   "metadata": {},
   "source": [
    "## Calling majority alleles from mpileup of reads of Upper-Paleolithic samples"
   ]
  },
  {
   "cell_type": "code",
   "execution_count": 21,
   "metadata": {
    "collapsed": false
   },
   "outputs": [
    {
     "name": "stdout",
     "output_type": "stream",
     "text": []
    }
   ],
   "source": [
    "mkdir emh"
   ]
  },
  {
   "cell_type": "code",
   "execution_count": 25,
   "metadata": {
    "collapsed": false,
    "scrolled": false
   },
   "outputs": [
    {
     "name": "stdout",
     "output_type": "stream",
     "text": []
    }
   ],
   "source": [
    "emh_bam_dir=\"/mnt/scratch/mateja/Early_modern_humans/nuclear_captures/Archaic_admixture_final/Individuals_L35_MQ37_deam_only/On_target_L35MQ37_deam_only\""
   ]
  },
  {
   "cell_type": "code",
   "execution_count": 27,
   "metadata": {
    "collapsed": false
   },
   "outputs": [
    {
     "name": "stdout",
     "output_type": "stream",
     "text": []
    }
   ],
   "source": [
    "majority_allele_calling_script=\"/mnt/scratch/mp/EMH/sample_from_mpileup.py\"\n",
    "reference=\"/mnt/solexa/Genomes/hg19_evan/whole_genome.fa\""
   ]
  },
  {
   "cell_type": "markdown",
   "metadata": {},
   "source": [
    "**Run the cell bellow only an a number cruncher, since it is running all the sampling in parallel!**"
   ]
  },
  {
   "cell_type": "code",
   "execution_count": 28,
   "metadata": {
    "collapsed": false
   },
   "outputs": [
    {
     "name": "stdout",
     "output_type": "stream",
     "text": [
      "[15] 9993\r\n"
     ]
    }
   ],
   "source": [
    "python3 $majority_allele_calling_script --bam $emh_bam_dir/Afontova_gora_L35MQ37_sorted.deam3_or_5.ontarget.L35MQ37.bam \\\n",
    "                                        --bed $position_file --strand_check non-USER_all \\\n",
    "                                        --ref $reference > emh/AfontovaGora.bed &\n",
    "\n",
    "\n",
    "python3 $majority_allele_calling_script --bam $emh_bam_dir/Dolni_Vestonice_13_L35MQ37_sorted.deam3_or_5.ontarget.L35MQ37.bam \\\n",
    "                                        --bed $position_file --strand_check USER \\\n",
    "                                        --ref $reference > emh/DolniVestonice13.bed &\n",
    "\n",
    "\n",
    "python3 $majority_allele_calling_script --bam $emh_bam_dir/Dolni_Vestonice_15_L35MQ37_sorted.deam3_or_5.ontarget.L35MQ37.bam \\\n",
    "                                        --bed $position_file --strand_check USER \\\n",
    "                                        --ref $reference > emh/DolniVestonice15.bed &\n",
    "\n",
    "\n",
    "python3 $majority_allele_calling_script --bam $emh_bam_dir/Dolni_Vestonice_16_L35MQ37_sorted.deam3_or_5.ontarget.L35MQ37.bam \\\n",
    "                                        --bed $position_file --strand_check USER \\\n",
    "                                        --ref $reference > emh/DolniVestonice16.bed &\n",
    "\n",
    "\n",
    "python3 $majority_allele_calling_script --bam $emh_bam_dir/Dolni_Vestonice_43_L35MQ37_sorted.deam3_or_5.ontarget.L35MQ37.bam \\\n",
    "                                        --bed $position_file --strand_check USER \\\n",
    "                                        --ref $reference > emh/DolniVestonice43.bed &\n",
    "\n",
    "\n",
    "python3 $majority_allele_calling_script --bam $emh_bam_dir/El_Miron_L35MQ37_sorted.deam3_or_5.ontarget.L35MQ37.bam \\\n",
    "                                        --bed $position_file --strand_check USER \\\n",
    "                                        --ref $reference > emh/ElMiron.bed &\n",
    "\n",
    "\n",
    "python3 $majority_allele_calling_script --bam $emh_bam_dir/Grotta_L35MQ37_sorted.deam3_or_5.ontarget.L35MQ37.bam \\\n",
    "                                        --bed $position_file --strand_check USER \\\n",
    "                                        --ref $reference > emh/Continenza.bed &\n",
    "\n",
    "\n",
    "python3 $majority_allele_calling_script --bam $emh_bam_dir/Kostenki12_L35MQ37_sorted.deam3_or_5.ontarget.L35MQ37.bam \\\n",
    "                                        --bed $position_file --strand_check USER \\\n",
    "                                        --ref $reference > emh/Kostenki12.bed &\n",
    "\n",
    "\n",
    "python3 $majority_allele_calling_script --bam $emh_bam_dir/Kostenki14_L35MQ37_sorted.deam3_or_5.ontarget.L35MQ37.bam \\\n",
    "                                        --bed $position_file --strand_check USER \\\n",
    "                                        --ref $reference > emh/Kostenki14.bed &\n",
    "\n",
    "\n",
    "python3 $majority_allele_calling_script --bam $emh_bam_dir/Muierii_L35MQ37_sorted.deam3_or_5.ontarget.L35MQ37.bam \\\n",
    "                                        --bed $position_file --strand_check USER \\\n",
    "                                        --ref $reference > emh/Muierii.bed &\n",
    "\n",
    "\n",
    "python3 $majority_allele_calling_script --bam $emh_bam_dir/Oase1_L35MQ37_sorted.deam3_or_5.ontarget.L35MQ37.bam \\\n",
    "                                        --bed $position_file --strand_check USER \\\n",
    "                                        --ref $reference > emh/Oase1.bed &\n",
    "\n",
    "\n",
    "python3 $majority_allele_calling_script --bam $emh_bam_dir/Ostuni_1_L35MQ37_sorted.deam3_or_5.ontarget.L35MQ37.bam \\\n",
    "                                        --bed $position_file --strand_check USER \\\n",
    "                                        --ref $reference > emh/Ostuni1.bed &\n",
    "\n",
    "\n",
    "python3 $majority_allele_calling_script --bam $emh_bam_dir/Ostuni_2_L35MQ37_sorted.deam3_or_5.ontarget.L35MQ37.bam \\\n",
    "                                        --bed $position_file --strand_check USER \\\n",
    "                                        --ref $reference > emh/Ostuni2.bed &\n",
    "\n",
    "\n",
    "python3 $majority_allele_calling_script --bam $emh_bam_dir/Pavlov_1_L35MQ37_sorted.deam3_or_5.ontarget.L35MQ37.bam \\\n",
    "                                        --bed $position_file --strand_check USER \\\n",
    "                                        --ref $reference > emh/Pavlov1.bed &\n",
    "\n",
    "\n",
    "python3 $majority_allele_calling_script --bam $emh_bam_dir/Villabruna_L35MQ37_sorted.deam3_or_5.ontarget.L35MQ37.bam \\\n",
    "                                        --bed $position_file --strand_check non-USER_all \\\n",
    "                                        --ref $reference > emh/Villabruna.bed &"
   ]
  },
  {
   "cell_type": "code",
   "execution_count": null,
   "metadata": {
    "collapsed": true
   },
   "outputs": [],
   "source": []
  }
 ],
 "metadata": {
  "kernelspec": {
   "display_name": "Bash",
   "language": "bash",
   "name": "bash"
  },
  "language_info": {
   "codemirror_mode": "shell",
   "file_extension": ".sh",
   "mimetype": "text/x-sh",
   "name": "bash"
  }
 },
 "nbformat": 4,
 "nbformat_minor": 0
}
